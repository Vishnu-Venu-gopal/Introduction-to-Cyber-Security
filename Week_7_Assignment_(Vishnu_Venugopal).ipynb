{
  "nbformat": 4,
  "nbformat_minor": 0,
  "metadata": {
    "colab": {
      "provenance": []
    },
    "kernelspec": {
      "name": "python3",
      "display_name": "Python 3"
    },
    "language_info": {
      "name": "python"
    }
  },
  "cells": [
    {
      "cell_type": "markdown",
      "source": [
        "**1.  Implement any two symmetric encryption algorithms using Python.**"
      ],
      "metadata": {
        "id": "z-JfjqBVlXSA"
      }
    },
    {
      "cell_type": "markdown",
      "source": [
        "***Symmetric Encryption Algorithm :-***\n",
        "\n",
        "      Symmetric Encryption algorithm relies on a single key for encryption and decryption of information. Both the sender and receiver of the message need to have a pre-shared secret key that they will use to convert the plaintext into ciphertext\n",
        "\n",
        "*A.  Advanced Encryption Standard (AES) :-*\n",
        "\n",
        "          AES is a symmetric encryption algorithm widely accepted as a standard by governments and organizations worldwide.\n",
        "          Trust on a single key for encryption and decryption of information. Both the sender and receiver of the message need to have a pre-shared secret key that they will use to convert the plaintext into ciphertext.\n",
        "          It operates on blocks of data and supports key sizes of 128, 192, or 256 bits.\n",
        "          AES uses a key for performing a number of transformations on the input data. The input data is combined, permuted, and swapped in these processes.\n"
      ],
      "metadata": {
        "id": "vXISbwuVlaG8"
      }
    },
    {
      "cell_type": "code",
      "source": [
        "#Program with Output\n",
        "\n",
        "!pip install pycryptodome\n",
        "from Crypto.Cipher import AES\n",
        "from Crypto.Random import get_random_bytes\n",
        "from Crypto.Util.Padding import pad, unpad\n",
        "\n",
        "def aes_encrypt(message, key):\n",
        "    cipher = AES.new(key, AES.MODE_CBC)\n",
        "    ciphertext = cipher.encrypt(pad(message.encode(), AES.block_size))\n",
        "    return ciphertext, cipher.iv\n",
        "\n",
        "def aes_decrypt(ciphertext, key, iv):\n",
        "    cipher = AES.new(key, AES.MODE_CBC, iv)\n",
        "    decrypted_message = unpad(cipher.decrypt(ciphertext), AES.block_size)\n",
        "    return decrypted_message.decode()\n",
        "\n",
        "\n",
        "key = get_random_bytes(16)\n",
        "message = \"Hello, AES!\"\n",
        "encrypted_message, iv = aes_encrypt(message, key)\n",
        "decrypted_message = aes_decrypt(encrypted_message, key, iv)\n",
        "\n",
        "print(\"Original Message:\", message)\n",
        "print(\"Encrypted Message:\", encrypted_message)\n",
        "print(\"Decrypted Message:\", decrypted_message)"
      ],
      "metadata": {
        "colab": {
          "base_uri": "https://localhost:8080/",
          "height": 0
        },
        "id": "gOGHu_B3nS_D",
        "outputId": "1b8ad106-b8e3-49f1-ffb3-0e98964dff2a"
      },
      "execution_count": 5,
      "outputs": [
        {
          "output_type": "stream",
          "name": "stdout",
          "text": [
            "Requirement already satisfied: pycryptodome in /usr/local/lib/python3.10/dist-packages (3.20.0)\n",
            "Original Message: Hello, AES!\n",
            "Encrypted Message: b'R\\x06,5bD\\x16\\xc2\\xe1\\x1f\\x9a\\x97X\\xbfsq'\n",
            "Decrypted Message: Hello, AES!\n"
          ]
        }
      ]
    },
    {
      "cell_type": "markdown",
      "source": [
        "*B.  Data Encryption Standard (DES) :-*\n",
        "\n",
        "      Data Encryption Standard (DES) is a block cipher with a 56-bit key length that has played a significant role in data security.\n",
        "      DES is a block cipher and encrypts data in blocks of size of 64 bits each, which means 64 bits of plain text go as the input to DES, which produces 64 bits of ciphertext.\n",
        "      DES performs a series of permutations and substitutions on the input data using the key."
      ],
      "metadata": {
        "id": "cOqqwPKuqDCN"
      }
    },
    {
      "cell_type": "code",
      "source": [
        "#Program with Output\n",
        "\n",
        "from Crypto.Cipher import DES\n",
        "from Crypto.Random import get_random_bytes\n",
        "from Crypto.Util.Padding import pad, unpad\n",
        "\n",
        "def des_encrypt(message, key):\n",
        "    cipher = DES.new(key, DES.MODE_ECB)\n",
        "    ciphertext = cipher.encrypt(pad(message, DES.block_size))\n",
        "    return ciphertext\n",
        "\n",
        "def des_decrypt(ciphertext, key):\n",
        "    cipher = DES.new(key, DES.MODE_ECB)\n",
        "    decrypted_message = unpad(cipher.decrypt(ciphertext), DES.block_size)\n",
        "    return decrypted_message\n",
        "\n",
        "\n",
        "key = get_random_bytes(8)\n",
        "message = b\"Hello, DES!\"\n",
        "padded_message = pad(message, DES.block_size)\n",
        "encrypted_message = des_encrypt(padded_message, key)\n",
        "decrypted_message = des_decrypt(encrypted_message, key)\n",
        "\n",
        "print(\"Original Message:\", message)\n",
        "print(\"Encrypted Message:\", encrypted_message)\n",
        "print(\"Decrypted Message:\", decrypted_message)"
      ],
      "metadata": {
        "colab": {
          "base_uri": "https://localhost:8080/",
          "height": 0
        },
        "id": "9YCM2FZhq4f3",
        "outputId": "79a189da-b52a-45e8-b439-41a68971341f"
      },
      "execution_count": 6,
      "outputs": [
        {
          "output_type": "stream",
          "name": "stdout",
          "text": [
            "Original Message: b'Hello, DES!'\n",
            "Encrypted Message: b'1\\x8fWyrC\\xcc\\xbbjt3\\x19A\\x109\\xbd\\x99Q\\x97\\xae\\xca#\\xa6\\t'\n",
            "Decrypted Message: b'Hello, DES!\\x05\\x05\\x05\\x05\\x05'\n"
          ]
        }
      ]
    },
    {
      "cell_type": "markdown",
      "source": [
        "**2. Implement any two Asymmetric encryption algorithms using Python.**"
      ],
      "metadata": {
        "id": "B6-QJrO4sYmW"
      }
    },
    {
      "cell_type": "markdown",
      "source": [
        "***Asymmetric Encryption Algorithm :-***\n",
        "\n",
        "        Asymmetric cryptography is a branch of cryptography where a secret key can be divided into two parts, a public key and a private key. The public key can be given to anyone, trusted or not, while the private key must be kept secret (just like the key in symmetric cryptography).\n",
        "\n",
        "\n",
        "*A.  Rivest-Shamir-Adleman (RSA) :-*\n",
        "\n",
        "        The mathematical difficulty of factoring big prime numbers is the foundation of RSA. built on the practical difficulty of factoring the product of two huge prime numbers—also known as the \"factoring problem\"—RSA security is built.\n",
        "        A private and public key are created, with the public key being accessible to anyone and the private key being a secret known only by the key pair creator. With RSA, either the private or public key can encrypt the data, while the other key decrypts it. This is one of the reasons RSA is the most used asymmetric encryption algorithm."
      ],
      "metadata": {
        "id": "MivErn_goV9Q"
      }
    },
    {
      "cell_type": "code",
      "source": [
        "#Program with Output\n",
        "\n",
        "from Crypto.PublicKey import RSA\n",
        "from Crypto.Cipher import PKCS1_OAEP\n",
        "\n",
        "def rsa_encrypt(message, public_key):\n",
        "    cipher = PKCS1_OAEP.new(public_key)\n",
        "    ciphertext = cipher.encrypt(message)\n",
        "    return ciphertext\n",
        "\n",
        "def rsa_decrypt(ciphertext, private_key):\n",
        "    cipher = PKCS1_OAEP.new(private_key)\n",
        "    decrypted_message = cipher.decrypt(ciphertext)\n",
        "    return decrypted_message\n",
        "\n",
        "\n",
        "key = RSA.generate(2048)\n",
        "public_key = key.publickey()\n",
        "private_key = key\n",
        "\n",
        "message = b\"Hello, RSA!\"\n",
        "encrypted_message = rsa_encrypt(message, public_key)\n",
        "decrypted_message = rsa_decrypt(encrypted_message, private_key)\n",
        "\n",
        "print(\"Original Message:\", message)\n",
        "print(\"Encrypted Message:\", encrypted_message)\n",
        "print(\"Decrypted Message:\", decrypted_message)"
      ],
      "metadata": {
        "colab": {
          "base_uri": "https://localhost:8080/",
          "height": 0
        },
        "id": "aDXFQ4o2tGOQ",
        "outputId": "c402935c-cd12-42ed-dc42-fb6e0305711e"
      },
      "execution_count": 7,
      "outputs": [
        {
          "output_type": "stream",
          "name": "stdout",
          "text": [
            "Original Message: b'Hello, RSA!'\n",
            "Encrypted Message: b'g\\x94\\x97\\x9b\\x81\\xa9\\xa4E\\xb2\\xbf?\\x1b\\xf18\\xe7\\x80\\xed\\xed\\xef\\xdf%\\xb5]\\xa5\\x8e\\x90\\x9cf\\x85P\\x91\\\\0\\xa6\\xf2S\\xa3ek\\xf2\\xd8\\x97[C\\xc9\\xeb\\xac\\xb8\\x89\\xc7\\x14!\\xf3a\\x90b\\xca\\xfb|e\\xc5\\xdb<(\\xe9!\\xa6z\\xca\\x07U\\x9c\\xd0\\xbfo\\xf4\\x92\\x80\\xdf\\x8b\\x0bOi\\x08\\x91\\x19\\xbdp\\xc1U\\xa6\\x9e\\xd5\\xacf\\n\\xe6\\xf9\\xb32TUW\\x9a\\x97\\x80\\xf2\\x9e\\xbc\\x11\\xde\\xcf\\x0e\\xb3\\x15\\xca5\\xca_\\xd1[\\x1b|\\x97L\\xa2\\x7f\\x99wJC&8\\x8d5\\xdd\\xd7e\\x15\\xdfv\\xd13\\xfcj\\xa6\\xf1F\\xfe\\xa1K\\x00\\xe85<m\\x01\\xc7\\x8e0\\t4!\\xe5>`\\xbb\\x9e\\x05\\xe7-c\\xab\\xdel#\\xc1\\xf0\\xb67a]\\x9c6\\x99m/\\x1c\\x86\\xc3\\xb2\\x90\\x88k\\xbe\"\\xb3pK\\xed\\xf5U:L:\\xba\\xae\\x19\\x98\\xca\\xb0J\\x16bv6~\\xe1\\x86S\\xaai\\nlk\\x1bN\\xd2\\xea\\xd5%7\\xd2~\\x9cH\\x03`4m\\x14\\x82>N\\xa3\\xfb\\xe9ep\\xc2\\xd4\\x00b\\xf0\\x9aL'\n",
            "Decrypted Message: b'Hello, RSA!'\n"
          ]
        }
      ]
    },
    {
      "cell_type": "markdown",
      "source": [
        "*B.  Digital Signature Algorithm DSA :-*\n",
        "\n",
        "        A Digital Signature is a verification method made by the recipient to ensure the message was sent from the authenticated identity. When a customer signs a check, the bank must verify that he issued that specific check.\n",
        "        DSA involves generating a pair of public and private keys. The private key is used to create the digital signature, while the public key is used to verify the signature."
      ],
      "metadata": {
        "id": "R_7-GymYucWQ"
      }
    },
    {
      "cell_type": "code",
      "source": [
        "#Program with Output\n",
        "\n",
        "from Crypto.PublicKey import DSA\n",
        "from Crypto.Signature import DSS\n",
        "from Crypto.Hash import SHA256\n",
        "\n",
        "def generate_dsa_keys():\n",
        "    key = DSA.generate(2048)\n",
        "    return key\n",
        "\n",
        "def dsa_sign(message, private_key):\n",
        "    hash_obj = SHA256.new(message)\n",
        "    signer = DSS.new(private_key, 'fips-186-3')\n",
        "    signature = signer.sign(hash_obj)\n",
        "    return signature\n",
        "\n",
        "def dsa_verify(message, signature, public_key):\n",
        "    hash_obj = SHA256.new(message)\n",
        "    verifier = DSS.new(public_key, 'fips-186-3')\n",
        "    try:\n",
        "        verifier.verify(hash_obj, signature)\n",
        "        return True\n",
        "    except ValueError:\n",
        "        return False\n",
        "\n",
        "\n",
        "key = generate_dsa_keys()\n",
        "message = b\"Hello, DSA!\"\n",
        "\n",
        "signature = dsa_sign(message, key)\n",
        "verified = dsa_verify(message, signature, key.publickey())\n",
        "\n",
        "print(\"Original Message:\", message)\n",
        "print(\"Signature:\", signature)\n",
        "print(\"Verified:\", verified)"
      ],
      "metadata": {
        "colab": {
          "base_uri": "https://localhost:8080/",
          "height": 0
        },
        "id": "04R5n4Ydvb_s",
        "outputId": "9f59d29e-e049-4e0c-aeb6-59f10bb03d37"
      },
      "execution_count": 8,
      "outputs": [
        {
          "output_type": "stream",
          "name": "stdout",
          "text": [
            "Original Message: b'Hello, DSA!'\n",
            "Signature: b'\\x12\\x86\\xb2\\x03\\xbd\\x8f\\x03\\xac&\\xba<\\xbb\\xc8)V\\x89\\x16j$7Q\\xd9D\\xc6H4\\x02(y\\x961L\\xd0\\xf71\\xb5{g\\xaa(\\x89\\xdf\\xfd)\\xe9\\xda\\xfe[\\xcd\\xbe\\xca\\xceP\\x88\\xb9\\x84'\n",
            "Verified: True\n"
          ]
        }
      ]
    },
    {
      "cell_type": "markdown",
      "source": [
        "**3. Implement a hash function to compute the hash of a given string.**"
      ],
      "metadata": {
        "id": "V4_-OBJUwiQZ"
      }
    },
    {
      "cell_type": "markdown",
      "source": [
        "***Hash Function :-***\n",
        "\n",
        "      A hash function is a mathematical function that converts a numerical input value into another compressed numerical value. The input to the hash function is of arbitrary length but output is always of fixed length.\n",
        "\n",
        "*Secure Hash Algorithm 256-bit (SHA-256) :-*\n",
        "\n",
        "      SHA 256 is a part of the SHA 2 family of algorithms, where SHA stands for Secure Hash Algorithm. Published in 2001, it was a joint effort between the NSA and NIST to introduce a successor to the SHA 1 family.\n",
        "      SHA-256 is a patented cryptographic hash function that outputs a value that is 256 bits long.\n",
        "      It's used for cryptographic security. Cryptographic hash algorithms produce irreversible and unique hashes. The larger the number of possible hashes, the smaller the chance that two values will create the same hash."
      ],
      "metadata": {
        "id": "Ug0ZYYdmwmE5"
      }
    },
    {
      "cell_type": "code",
      "source": [
        "#Program with Output\n",
        "\n",
        "import hashlib\n",
        "\n",
        "def sha256_hash(message):\n",
        "    hash_obj = hashlib.sha256()\n",
        "    hash_obj.update(message)\n",
        "    return hash_obj.digest()\n",
        "\n",
        "\n",
        "message = b\"Hello, SHA-256!\"\n",
        "hash_value = sha256_hash(message)\n",
        "\n",
        "print(\"Message:\", message)\n",
        "print(\"SHA-256 Hash:\", hash_value.hex())\n",
        "\n",
        "print()\n",
        "print()\n",
        "print()\n",
        "\n",
        "\n",
        "\n",
        "def hash_function(string):\n",
        "    hash_value = 0\n",
        "    for char in string:\n",
        "        hash_value ^= ord(char)\n",
        "\n",
        "    return hash_value\n",
        "input_string = \"You are so beautiful\"\n",
        "hash_value = hash_function(input_string)\n",
        "print(f\"The hash of '{input_string}' is: {hash_value}\")"
      ],
      "metadata": {
        "colab": {
          "base_uri": "https://localhost:8080/",
          "height": 0
        },
        "id": "6ZRDy4rvzPWg",
        "outputId": "6396006b-0bcf-4349-d8a6-42eb00ee6db0"
      },
      "execution_count": 19,
      "outputs": [
        {
          "output_type": "stream",
          "name": "stdout",
          "text": [
            "Message: b'Hello, SHA-256!'\n",
            "SHA-256 Hash: d0e8b8f11c98f369016eb2ed3c541e1f01382f9d5b3104c9ffd06b6175a46271\n",
            "\n",
            "\n",
            "\n",
            "The hash of 'You are so beautiful' is: 120\n"
          ]
        }
      ]
    }
  ]
}